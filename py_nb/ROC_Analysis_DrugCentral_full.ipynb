{
  "nbformat": 4,
  "nbformat_minor": 0,
  "metadata": {
    "colab": {
      "name": "ROC_Analysis_DrugCentral.ipynb",
      "provenance": []
    },
    "kernelspec": {
      "name": "python3",
      "display_name": "Python 3"
    }
  },
  "cells": [
    {
      "cell_type": "markdown",
      "metadata": {
        "id": "KdcaNV_N5VRk"
      },
      "source": [
        "# KGAP-LINCS-IDG: ROC AUC validation vs DrugCentral PD genes"
      ]
    },
    {
      "cell_type": "markdown",
      "metadata": {
        "id": "6cTOsNqX5kRG"
      },
      "source": [
        "## Imports\n",
        "Install neo4j library if you don't already have it."
      ]
    },
    {
      "cell_type": "code",
      "metadata": {
        "id": "vpoB0aDU2HXA",
        "outputId": "98d1e0f9-404b-4f89-b137-50cf1f8113fb",
        "colab": {
          "base_uri": "https://localhost:8080/",
          "height": 224
        }
      },
      "source": [
        "try:\n",
        "  import neo4j\n",
        "except:\n",
        "  !pip install neo4j\n",
        "  import neo4j"
      ],
      "execution_count": 1,
      "outputs": [
        {
          "output_type": "stream",
          "text": [
            "Collecting neo4j\n",
            "\u001b[?25l  Downloading https://files.pythonhosted.org/packages/ad/4c/6d58b9416d2d62c4115d4c6bd84e6f31ca98716f50ee9da7a5418cfa61d0/neo4j-4.1.1.tar.gz (67kB)\n",
            "\r\u001b[K     |████▉                           | 10kB 6.7MB/s eta 0:00:01\r\u001b[K     |█████████▊                      | 20kB 1.6MB/s eta 0:00:01\r\u001b[K     |██████████████▋                 | 30kB 2.0MB/s eta 0:00:01\r\u001b[K     |███████████████████▌            | 40kB 2.3MB/s eta 0:00:01\r\u001b[K     |████████████████████████▍       | 51kB 1.9MB/s eta 0:00:01\r\u001b[K     |█████████████████████████████▎  | 61kB 2.2MB/s eta 0:00:01\r\u001b[K     |████████████████████████████████| 71kB 2.0MB/s \n",
            "\u001b[?25hRequirement already satisfied: pytz in /usr/local/lib/python3.6/dist-packages (from neo4j) (2018.9)\n",
            "Building wheels for collected packages: neo4j\n",
            "  Building wheel for neo4j (setup.py) ... \u001b[?25l\u001b[?25hdone\n",
            "  Created wheel for neo4j: filename=neo4j-4.1.1-cp36-none-any.whl size=94668 sha256=a836a1867fae3257dbc1604cc86b94ed44ddab22cb200f49c80eaf01ec667758\n",
            "  Stored in directory: /root/.cache/pip/wheels/9a/fc/33/6d01e37785f45eb8f7b6d1c95db82eb0c4816d465205c1dfa9\n",
            "Successfully built neo4j\n",
            "Installing collected packages: neo4j\n",
            "Successfully installed neo4j-4.1.1\n"
          ],
          "name": "stdout"
        }
      ]
    },
    {
      "cell_type": "code",
      "metadata": {
        "id": "S412SgKgTOWZ",
        "outputId": "2d26d41a-8a64-4078-ae18-198f99f1ef04",
        "colab": {
          "base_uri": "https://localhost:8080/",
          "height": 71
        }
      },
      "source": [
        "import pandas as pd, pandas.io.sql\n",
        "import base64, requests, getpass\n",
        "import numpy as np\n",
        "from sklearn.metrics import roc_curve, roc_auc_score, accuracy_score, matthews_corrcoef, f1_score\n",
        "from matplotlib import pyplot as plt\n",
        "import psycopg2, psycopg2.extras"
      ],
      "execution_count": 2,
      "outputs": [
        {
          "output_type": "stream",
          "text": [
            "/usr/local/lib/python3.6/dist-packages/psycopg2/__init__.py:144: UserWarning: The psycopg2 wheel package will be renamed from release 2.8; in order to keep installing from binary please use \"pip install psycopg2-binary\" instead. For details see: <http://initd.org/psycopg/docs/install.html#binary-install-from-pypi>.\n",
            "  \"\"\")\n"
          ],
          "name": "stderr"
        }
      ]
    },
    {
      "cell_type": "markdown",
      "metadata": {
        "id": "i2Hd35TKUPf-"
      },
      "source": [
        "## Connect to DrugCentral "
      ]
    },
    {
      "cell_type": "code",
      "metadata": {
        "id": "_ua3FDiIUESe"
      },
      "source": [
        "dbhost=\"unmtid-dbs.net\"; dbport=5433; dbname=\"drugcentral\"; dbusr=\"drugman\"; dbpw=\"dosage\";\n",
        "dsn = (\"host='%s' port='%s' dbname='%s' user='%s' password='%s'\"%(dbhost, dbport, dbname, dbusr, dbpw))\n",
        "dbcon = psycopg2.connect(dsn)\n",
        "dbcon.cursor_factory = psycopg2.extras.DictCursor"
      ],
      "execution_count": 3,
      "outputs": []
    },
    {
      "cell_type": "markdown",
      "metadata": {
        "id": "hPmMiQ0lZ8Z5"
      },
      "source": [
        "## Query DrugCentral for PD genes"
      ]
    },
    {
      "cell_type": "code",
      "metadata": {
        "id": "SR4xqDyxTjyt",
        "outputId": "c65e53a7-411d-4942-8a35-6c09500ba915",
        "colab": {
          "base_uri": "https://localhost:8080/",
          "height": 204
        }
      },
      "source": [
        "sql=\"\"\"\\\n",
        "SELECT DISTINCT\n",
        "        atf.target_name,\n",
        "        atf.gene genes,\n",
        "        atf.moa\n",
        "FROM\n",
        "        act_table_full atf\n",
        "JOIN\n",
        "        structures s ON s.id = atf.struct_id\n",
        "JOIN\n",
        "        omop_relationship omop ON omop.struct_id = s.id\n",
        "WHERE\n",
        "        omop.relationship_name = 'indication'\n",
        "        AND omop.concept_name ~* 'Parkinson'\n",
        "\"\"\"\n",
        "dcgenes = pandas.io.sql.read_sql_query(sql, dbcon)\n",
        "dcgenes = dcgenes.astype({'moa': 'boolean'})\n",
        "dcgenes.head()"
      ],
      "execution_count": 4,
      "outputs": [
        {
          "output_type": "execute_result",
          "data": {
            "text/html": [
              "<div>\n",
              "<style scoped>\n",
              "    .dataframe tbody tr th:only-of-type {\n",
              "        vertical-align: middle;\n",
              "    }\n",
              "\n",
              "    .dataframe tbody tr th {\n",
              "        vertical-align: top;\n",
              "    }\n",
              "\n",
              "    .dataframe thead th {\n",
              "        text-align: right;\n",
              "    }\n",
              "</style>\n",
              "<table border=\"1\" class=\"dataframe\">\n",
              "  <thead>\n",
              "    <tr style=\"text-align: right;\">\n",
              "      <th></th>\n",
              "      <th>target_name</th>\n",
              "      <th>genes</th>\n",
              "      <th>moa</th>\n",
              "    </tr>\n",
              "  </thead>\n",
              "  <tbody>\n",
              "    <tr>\n",
              "      <th>0</th>\n",
              "      <td>5-hydroxytryptamine receptor 1A</td>\n",
              "      <td>HTR1A</td>\n",
              "      <td>&lt;NA&gt;</td>\n",
              "    </tr>\n",
              "    <tr>\n",
              "      <th>1</th>\n",
              "      <td>5-hydroxytryptamine receptor 1A</td>\n",
              "      <td>Htr1a</td>\n",
              "      <td>&lt;NA&gt;</td>\n",
              "    </tr>\n",
              "    <tr>\n",
              "      <th>2</th>\n",
              "      <td>5-hydroxytryptamine receptor 1B</td>\n",
              "      <td>HTR1B</td>\n",
              "      <td>&lt;NA&gt;</td>\n",
              "    </tr>\n",
              "    <tr>\n",
              "      <th>3</th>\n",
              "      <td>5-hydroxytryptamine receptor 1B</td>\n",
              "      <td>Htr1b</td>\n",
              "      <td>&lt;NA&gt;</td>\n",
              "    </tr>\n",
              "    <tr>\n",
              "      <th>4</th>\n",
              "      <td>5-hydroxytryptamine receptor 1D</td>\n",
              "      <td>HTR1D</td>\n",
              "      <td>&lt;NA&gt;</td>\n",
              "    </tr>\n",
              "  </tbody>\n",
              "</table>\n",
              "</div>"
            ],
            "text/plain": [
              "                       target_name  genes   moa\n",
              "0  5-hydroxytryptamine receptor 1A  HTR1A  <NA>\n",
              "1  5-hydroxytryptamine receptor 1A  Htr1a  <NA>\n",
              "2  5-hydroxytryptamine receptor 1B  HTR1B  <NA>\n",
              "3  5-hydroxytryptamine receptor 1B  Htr1b  <NA>\n",
              "4  5-hydroxytryptamine receptor 1D  HTR1D  <NA>"
            ]
          },
          "metadata": {
            "tags": []
          },
          "execution_count": 4
        }
      ]
    },
    {
      "cell_type": "markdown",
      "metadata": {
        "id": "yn-rsAlJTgqT"
      },
      "source": [
        "## Parse and split delimited gene symbols to separate rows:"
      ]
    },
    {
      "cell_type": "code",
      "metadata": {
        "id": "CL0PbM8sUz8q",
        "outputId": "443917f5-4670-43a0-c2a5-f32686366fef",
        "colab": {
          "base_uri": "https://localhost:8080/",
          "height": 221
        }
      },
      "source": [
        "b = pd.DataFrame(dcgenes.genes.str.split('|').tolist(), index=dcgenes.index).stack()\n",
        "b = pd.DataFrame(b)\n",
        "b.columns = ['gene']\n",
        "print(\"0-level index: {}\".format(b.index.levels[0]))\n",
        "b.head()\n",
        "b = b.reset_index(level=1, drop=True)\n",
        "b.head()"
      ],
      "execution_count": 5,
      "outputs": [
        {
          "output_type": "stream",
          "text": [
            "0-level index: RangeIndex(start=0, stop=120, step=1)\n"
          ],
          "name": "stdout"
        },
        {
          "output_type": "execute_result",
          "data": {
            "text/html": [
              "<div>\n",
              "<style scoped>\n",
              "    .dataframe tbody tr th:only-of-type {\n",
              "        vertical-align: middle;\n",
              "    }\n",
              "\n",
              "    .dataframe tbody tr th {\n",
              "        vertical-align: top;\n",
              "    }\n",
              "\n",
              "    .dataframe thead th {\n",
              "        text-align: right;\n",
              "    }\n",
              "</style>\n",
              "<table border=\"1\" class=\"dataframe\">\n",
              "  <thead>\n",
              "    <tr style=\"text-align: right;\">\n",
              "      <th></th>\n",
              "      <th>gene</th>\n",
              "    </tr>\n",
              "  </thead>\n",
              "  <tbody>\n",
              "    <tr>\n",
              "      <th>0</th>\n",
              "      <td>HTR1A</td>\n",
              "    </tr>\n",
              "    <tr>\n",
              "      <th>1</th>\n",
              "      <td>Htr1a</td>\n",
              "    </tr>\n",
              "    <tr>\n",
              "      <th>2</th>\n",
              "      <td>HTR1B</td>\n",
              "    </tr>\n",
              "    <tr>\n",
              "      <th>3</th>\n",
              "      <td>Htr1b</td>\n",
              "    </tr>\n",
              "    <tr>\n",
              "      <th>4</th>\n",
              "      <td>HTR1D</td>\n",
              "    </tr>\n",
              "  </tbody>\n",
              "</table>\n",
              "</div>"
            ],
            "text/plain": [
              "    gene\n",
              "0  HTR1A\n",
              "1  Htr1a\n",
              "2  HTR1B\n",
              "3  Htr1b\n",
              "4  HTR1D"
            ]
          },
          "metadata": {
            "tags": []
          },
          "execution_count": 5
        }
      ]
    },
    {
      "cell_type": "code",
      "metadata": {
        "id": "9iStDu67gop4",
        "outputId": "60b711b1-2466-49f3-aeb8-dc8d4fc532a6",
        "colab": {
          "base_uri": "https://localhost:8080/",
          "height": 421
        }
      },
      "source": [
        "dcgenes = dcgenes.drop(columns=[\"genes\"]).join(b, how=\"left\")\n",
        "dcgenes.head(12)"
      ],
      "execution_count": 6,
      "outputs": [
        {
          "output_type": "execute_result",
          "data": {
            "text/html": [
              "<div>\n",
              "<style scoped>\n",
              "    .dataframe tbody tr th:only-of-type {\n",
              "        vertical-align: middle;\n",
              "    }\n",
              "\n",
              "    .dataframe tbody tr th {\n",
              "        vertical-align: top;\n",
              "    }\n",
              "\n",
              "    .dataframe thead th {\n",
              "        text-align: right;\n",
              "    }\n",
              "</style>\n",
              "<table border=\"1\" class=\"dataframe\">\n",
              "  <thead>\n",
              "    <tr style=\"text-align: right;\">\n",
              "      <th></th>\n",
              "      <th>target_name</th>\n",
              "      <th>moa</th>\n",
              "      <th>gene</th>\n",
              "    </tr>\n",
              "  </thead>\n",
              "  <tbody>\n",
              "    <tr>\n",
              "      <th>0</th>\n",
              "      <td>5-hydroxytryptamine receptor 1A</td>\n",
              "      <td>&lt;NA&gt;</td>\n",
              "      <td>HTR1A</td>\n",
              "    </tr>\n",
              "    <tr>\n",
              "      <th>1</th>\n",
              "      <td>5-hydroxytryptamine receptor 1A</td>\n",
              "      <td>&lt;NA&gt;</td>\n",
              "      <td>Htr1a</td>\n",
              "    </tr>\n",
              "    <tr>\n",
              "      <th>2</th>\n",
              "      <td>5-hydroxytryptamine receptor 1B</td>\n",
              "      <td>&lt;NA&gt;</td>\n",
              "      <td>HTR1B</td>\n",
              "    </tr>\n",
              "    <tr>\n",
              "      <th>3</th>\n",
              "      <td>5-hydroxytryptamine receptor 1B</td>\n",
              "      <td>&lt;NA&gt;</td>\n",
              "      <td>Htr1b</td>\n",
              "    </tr>\n",
              "    <tr>\n",
              "      <th>4</th>\n",
              "      <td>5-hydroxytryptamine receptor 1D</td>\n",
              "      <td>&lt;NA&gt;</td>\n",
              "      <td>HTR1D</td>\n",
              "    </tr>\n",
              "    <tr>\n",
              "      <th>5</th>\n",
              "      <td>5-hydroxytryptamine receptor 2A</td>\n",
              "      <td>True</td>\n",
              "      <td>HTR2A</td>\n",
              "    </tr>\n",
              "    <tr>\n",
              "      <th>6</th>\n",
              "      <td>5-hydroxytryptamine receptor 2A</td>\n",
              "      <td>&lt;NA&gt;</td>\n",
              "      <td>HTR2A</td>\n",
              "    </tr>\n",
              "    <tr>\n",
              "      <th>7</th>\n",
              "      <td>5-hydroxytryptamine receptor 2B</td>\n",
              "      <td>&lt;NA&gt;</td>\n",
              "      <td>HTR2B</td>\n",
              "    </tr>\n",
              "    <tr>\n",
              "      <th>8</th>\n",
              "      <td>5-hydroxytryptamine receptor 2C</td>\n",
              "      <td>True</td>\n",
              "      <td>HTR2C</td>\n",
              "    </tr>\n",
              "    <tr>\n",
              "      <th>9</th>\n",
              "      <td>5-hydroxytryptamine receptor 2C</td>\n",
              "      <td>&lt;NA&gt;</td>\n",
              "      <td>HTR2C</td>\n",
              "    </tr>\n",
              "    <tr>\n",
              "      <th>10</th>\n",
              "      <td>5-hydroxytryptamine receptor 6</td>\n",
              "      <td>&lt;NA&gt;</td>\n",
              "      <td>HTR6</td>\n",
              "    </tr>\n",
              "    <tr>\n",
              "      <th>11</th>\n",
              "      <td>5-hydroxytryptamine receptor 6</td>\n",
              "      <td>&lt;NA&gt;</td>\n",
              "      <td>Htr6</td>\n",
              "    </tr>\n",
              "  </tbody>\n",
              "</table>\n",
              "</div>"
            ],
            "text/plain": [
              "                        target_name   moa   gene\n",
              "0   5-hydroxytryptamine receptor 1A  <NA>  HTR1A\n",
              "1   5-hydroxytryptamine receptor 1A  <NA>  Htr1a\n",
              "2   5-hydroxytryptamine receptor 1B  <NA>  HTR1B\n",
              "3   5-hydroxytryptamine receptor 1B  <NA>  Htr1b\n",
              "4   5-hydroxytryptamine receptor 1D  <NA>  HTR1D\n",
              "5   5-hydroxytryptamine receptor 2A  True  HTR2A\n",
              "6   5-hydroxytryptamine receptor 2A  <NA>  HTR2A\n",
              "7   5-hydroxytryptamine receptor 2B  <NA>  HTR2B\n",
              "8   5-hydroxytryptamine receptor 2C  True  HTR2C\n",
              "9   5-hydroxytryptamine receptor 2C  <NA>  HTR2C\n",
              "10   5-hydroxytryptamine receptor 6  <NA>   HTR6\n",
              "11   5-hydroxytryptamine receptor 6  <NA>   Htr6"
            ]
          },
          "metadata": {
            "tags": []
          },
          "execution_count": 6
        }
      ]
    },
    {
      "cell_type": "markdown",
      "metadata": {
        "id": "xQmp7_AHCl6J"
      },
      "source": [
        "## Query DrugCentral for PD drugs "
      ]
    },
    {
      "cell_type": "code",
      "metadata": {
        "id": "QYNCIHhICz5C",
        "outputId": "f0b7eafd-aa5b-4c1f-ad77-52c135f44e50",
        "colab": {
          "base_uri": "https://localhost:8080/",
          "height": 204
        }
      },
      "source": [
        "sql = \"\"\"\\\n",
        "SELECT DISTINCT\n",
        "\tids.identifier AS pubchem_cid,\n",
        "\ts.id,\n",
        "\ts.name,\n",
        "\tatc.l1_code,\n",
        "\tatc.l1_name,\n",
        "\tomop.concept_name omop_concept_name,\n",
        "\tomop.snomed_full_name\n",
        "FROM\n",
        "\tomop_relationship omop\n",
        "JOIN\n",
        "\tstructures s ON omop.struct_id = s.id\n",
        "JOIN\n",
        "\tidentifier ids ON ids.struct_id = s.id\n",
        "JOIN\n",
        "\tstruct2atc s2atc ON s2atc.struct_id = s.id\n",
        "JOIN\n",
        "\tatc ON atc.code = s2atc.atc_code\n",
        "WHERE\n",
        "\tids.id_type = 'PUBCHEM_CID'\n",
        "\tAND atc.l1_name = 'NERVOUS SYSTEM'\n",
        "\tAND omop.relationship_name = 'indication'\n",
        "\"\"\"\n",
        "df = pandas.io.sql.read_sql_query(sql, dbcon)\n",
        "df.head()"
      ],
      "execution_count": 8,
      "outputs": [
        {
          "output_type": "execute_result",
          "data": {
            "text/html": [
              "<div>\n",
              "<style scoped>\n",
              "    .dataframe tbody tr th:only-of-type {\n",
              "        vertical-align: middle;\n",
              "    }\n",
              "\n",
              "    .dataframe tbody tr th {\n",
              "        vertical-align: top;\n",
              "    }\n",
              "\n",
              "    .dataframe thead th {\n",
              "        text-align: right;\n",
              "    }\n",
              "</style>\n",
              "<table border=\"1\" class=\"dataframe\">\n",
              "  <thead>\n",
              "    <tr style=\"text-align: right;\">\n",
              "      <th></th>\n",
              "      <th>pubchem_cid</th>\n",
              "      <th>id</th>\n",
              "      <th>name</th>\n",
              "      <th>l1_code</th>\n",
              "      <th>l1_name</th>\n",
              "      <th>omop_concept_name</th>\n",
              "      <th>snomed_full_name</th>\n",
              "    </tr>\n",
              "  </thead>\n",
              "  <tbody>\n",
              "    <tr>\n",
              "      <th>0</th>\n",
              "      <td>3036780</td>\n",
              "      <td>4115</td>\n",
              "      <td>asenapine</td>\n",
              "      <td>N</td>\n",
              "      <td>NERVOUS SYSTEM</td>\n",
              "      <td>Schizophrenia</td>\n",
              "      <td>Schizophrenia</td>\n",
              "    </tr>\n",
              "    <tr>\n",
              "      <th>1</th>\n",
              "      <td>3446</td>\n",
              "      <td>1264</td>\n",
              "      <td>gabapentin</td>\n",
              "      <td>N</td>\n",
              "      <td>NERVOUS SYSTEM</td>\n",
              "      <td>Postherpetic neuralgia</td>\n",
              "      <td>Postherpetic neuralgia</td>\n",
              "    </tr>\n",
              "    <tr>\n",
              "      <th>2</th>\n",
              "      <td>4021</td>\n",
              "      <td>4156</td>\n",
              "      <td>edaravone</td>\n",
              "      <td>N</td>\n",
              "      <td>NERVOUS SYSTEM</td>\n",
              "      <td>Ischemic stroke</td>\n",
              "      <td>Ischemic stroke</td>\n",
              "    </tr>\n",
              "    <tr>\n",
              "      <th>3</th>\n",
              "      <td>3821</td>\n",
              "      <td>1523</td>\n",
              "      <td>ketamine</td>\n",
              "      <td>N</td>\n",
              "      <td>NERVOUS SYSTEM</td>\n",
              "      <td>Local anesthesia</td>\n",
              "      <td>Local anesthesia</td>\n",
              "    </tr>\n",
              "    <tr>\n",
              "      <th>4</th>\n",
              "      <td>4158</td>\n",
              "      <td>1767</td>\n",
              "      <td>methylphenidate</td>\n",
              "      <td>N</td>\n",
              "      <td>NERVOUS SYSTEM</td>\n",
              "      <td>Narcolepsy</td>\n",
              "      <td>Narcolepsy</td>\n",
              "    </tr>\n",
              "  </tbody>\n",
              "</table>\n",
              "</div>"
            ],
            "text/plain": [
              "  pubchem_cid    id  ...       omop_concept_name        snomed_full_name\n",
              "0     3036780  4115  ...           Schizophrenia           Schizophrenia\n",
              "1        3446  1264  ...  Postherpetic neuralgia  Postherpetic neuralgia\n",
              "2        4021  4156  ...         Ischemic stroke         Ischemic stroke\n",
              "3        3821  1523  ...        Local anesthesia        Local anesthesia\n",
              "4        4158  1767  ...              Narcolepsy              Narcolepsy\n",
              "\n",
              "[5 rows x 7 columns]"
            ]
          },
          "metadata": {
            "tags": []
          },
          "execution_count": 8
        }
      ]
    },
    {
      "cell_type": "code",
      "metadata": {
        "id": "egohiYTIDxFV",
        "outputId": "4b5bfb13-4944-4c8b-9d73-8a3d54aecd25",
        "colab": {
          "base_uri": "https://localhost:8080/",
          "height": 54
        }
      },
      "source": [
        "print(\"PUBCHEM_CIDs: {}\".format(\",\".join(list(df.pubchem_cid))))"
      ],
      "execution_count": 11,
      "outputs": [
        {
          "output_type": "stream",
          "text": [
            "PUBCHEM_CIDs: 3036780,3446,4021,3821,4158,2206,5002,55191,26757,4909,3676,208902,2726,15130,4099,5284627,3016,5411,3372,2712,3676,3672,1935,3386,8271,5002,3000322,2337,135565903,3559,2474,5361092,3117,5284371,60795,1547484,1775,4601,9690109,3958,9690109,10071196,33741,3000322,3345,3345,6918314,4919,32170,4060,2337,3016,5311454,1201549,5193,4062,38668,2554,4744,3059,3686,3180,8223,5360515,43815,4940,3299,2519,54746,4744,5281081,47811,3000322,60835,60815,3386,2519,3025,5284371,4737,5360696,65833,2337,1983,5002,5361092,4926,16363,4099,5284583,4909,338,4506,4914,4926,5284603,667477,4054,5284371,131682,54841,3696,5284596,3676,4158,2381,1983,129228,5360696,3345,3016,5360696,3672,1983,4744,996,4909,2244,3658,5360515,16362,60854,2712,3396,5568,441278,4919,5360696,2118,3121,3958,135398737,4917,11125,6047,3672,2712,92253,10220503,2118,2712,4737,8223,4748,3958,10836,3331,5284583,3025,5288826,5284371,5910,3291,2244,6488,3016,1775,3958,4926,92253,3000715,4926,60795,3658,89594,4744,338,121892,9690109,213046,4926,4737,4991,2337,11125,5826,4909,2712,5288826,10100,16135415,5360696,1983,3559,3446,941651,2554,2802,2789,5411,5568,5095,2244,6494,11125,3121,5665,3007,24965990,175805,60795,11154555,5372683,3292,446220,2712,60795,4926,3226,3763,3180,4926,5311507,5002,4763,4616,644019,4064,146570,3180,4991,2726,2712,3116,3084726,3446,2712,4011,5284627,5391,11125,2244,2801,5910,5284603,3007,34521,5284371,3000322,5572,441278,3152,3180,5147,3676,4064,4917,2519,3676,10130337,5486971,60815,1983,5284603,119570,10240,3878,77991,3025,115237,34312,3152,3121,3562,4909,5566,2519,644073,30668,2554,4456,4926,2160,338,2164,2377,3487,11125,3036780,2381,5719,154101,123606,4192,1201549,5284543,4616,5284543,3016,3676,338,4919,33741,10783,5284627,2130,5311454,68617,5284550,11125,4917,31101,5070,4058,2130,5284371,3000322,1775,1727,11125,5284596,1775,37767,43815,31640,4184,5576,31101,4763,135398745,5656,5193,338,896,8280,11597698,68617,3696,4236,34312,10630,667477,5656,3878,2519,11125,338,5284570,43815,4058,135398745,5732,28864,2474,59227,3964,1201549,9034,3000715,338,60815,443955,5147,4192,3000322,644073,3372,4058,2554,4744,5193,2294,2244,2337,5284371,23663870,996,135398745,4926,4748,8271,3000322,1983,23663870,1547484,71360,5361092,6464,5311068,1775,60648,60857,5206,5288826,121492004,92253,2519,8280,41693,1775,3000322,1201549,23497,5360515,5533,4192,8271,3676,5284543,4543,3958,3000322,5358,3121,5311304,1548943,43815,4917,4744,3676,6337,5360696,2809,644073,5719,5665,3676,4909,338,4257,4753,3345,4737,3000322,60149,3345,127151,5284570,4192,2381,3059,2477,28864,444,6839,338,179344,43815,3000322,5734,5284570,4926,5656,5284543,4192,5073,4906,4737,92253,2474,2244,11154555,10531,5002,135398737,4926,77992,5193,83898,3036780,4440,4926,3676,667477,2726,3345,3958,2726,3386,11001318,9651,338,1547484,3033860,5486971,4058,3016,5735,2771,2802,21772,10235,2771,19493,4192,11978813,60795,9417,4021,2130,16135415,7045767,11001318,5284371,5576,2995,338,2726,5284543,1775,2474,31101,5910,5360515,60835,3559,77993,4763,51712,182137,82148,444,5568,4744,5361092,1548943,3947,1548943,5656,4909,667477,2474,2474,4167,4926,8223,3672,30843,3672,5311304,338,60854,5486971,17676,2802,60854,4919,3658,9681,2803,4060,135398737,1775,1983,3059,3000322,2809,432824,6005,2554,4236,2519,6476,5078,644073,5288826,3168,2554,4078,59227,3000322,2474,3386,11154555,1983,7045767,3676,5568,6464,4723,125017,2130,4890,60854,3059,60854,3676,4456,3000322,2726,1775,1983,4744,135398745,4943,4926,5147,5284371,5826,4162,9948102,92943,3007,8271,60648,5666,3676,2519,31101,89594,4011,5284583,4095,5411,2554,4058,4926,4763,6476,2519,2244,4062,3559,4763,2519,5193,5360515,44148067,4909,11597698,43815,4737,3672,3675,3116,5572,5284596,2519,5360515,2519,5284596,23897,60835,5360696,2554,4914,2726,2164,2337,5411,10531,3672,16135415,4926,5910,2381,4235,441278,13520,4763,2130,5360696,51712,996,3016,3000322,2803,3360,644019,5572,2554,2519,9966051,5284570,2712,4205,3386,969472,2474,19063,1775,4748,3016,43815,2803,11125,2130,4060,604519,1983,8271,5284371,3676,2802,11125,4763,667467,3676,1983,26757,4753,10130337,5311304,3676,4744,4062,3180,77991,3307,3393,28864,5284371,5193,5284543,22267,5284543,5556,6464,5284594,2160,8275,4926,2707,3878,89594,338,2164,2244,10836,5360696,667477,68617,6839,4737,2381,51263,89594,338,213046,4763,36846,33741,2164,175805,2370,2366,3658,41693,667477,5462328,2337,60795,2170,2244,4976,6473,2712,667477,8612,2244,4943,4737,5360696,34312,5284371,3386,54677946,34870,5284583,2519,2164,4019,6047,3676,4449,5284594,43815,5284596,30131,5161,2712,1775,444,31101,2118,5284570,2771,24795069,5161,41049,11978813,2554,3658,4506,3958,3121,3964,644073,4943,71158,2159,4058,10783,5411,2164,13520,5288826,56339,4991,1548943,68617,5002,3878,3759,441278,3331,3958,2803,2337,3016,2519,996,135398745,4095,6473,3672,146570,5486971,5073,338,4192,4744,1983,3168,5284594,3016,3676,3676,115237,2130,42113,170361,2554,5324346,3292,9838022,2159,5360515,2474,3676,3958,8223,3180,444,5910,3672,16135415,175805,135398745,2554,5284627,2337,1983,4890,2244,4640,644073,9837243,3033053,2131,5193,5284570,68617,2519,1548943,5411,2474,4763,4062,5073,60835,9034,13520,3658,1775,10630,175805,3052776,5360696,5584,3386,4099,2164,2802,56339,92253,3748,4601,3000715,115237,5360696,5193,3676,2726,4763,3878,2554,5073,5284371,2712,4737,5360696,60835,2519,4192,5918,60795,5288826,444,5358,43815,135398745,3000322,2474,4926,10130337,2809,135398745,2707,5486971,68617,5311304,60835,5284371,3672,5284583,3000322,4763,9924495,3331,2474,5284570,5360515,338,219078,5572,8024,3000715,135398745,56339,6018,5452,5281077,4926,2337,32170,3299,2519,4064,5355,3676,175805,2244,3878,2803,56339,5284627,4659569,4192,2726,4456,2337,1201549,5732,2244,4236,3658,2337,5288826,3000322,5572,5831,3345,5324346,5281881,4919,5910,3672,338,5566,4999,3821,10531,4926,5147,5288826,4850,3180,119570,5288826,5147,5073,36339,4940,5288826,3345,4926,175805,2164,2118,3261,667477,5360696,3672,89594,444,5281077,4060,6047,5095,4906,1983,92253,60795,4192,5411,3116\n"
          ],
          "name": "stdout"
        }
      ]
    },
    {
      "cell_type": "markdown",
      "metadata": {
        "id": "ZwgU48dT2vzW"
      },
      "source": [
        "## Connect to Neo4j and test to confirm connection."
      ]
    },
    {
      "cell_type": "code",
      "metadata": {
        "id": "G5KCKqIg2cks",
        "outputId": "de31c79d-1282-400e-e0f0-8c94b2407ba6",
        "colab": {
          "base_uri": "https://localhost:8080/",
          "height": 34
        }
      },
      "source": [
        "NeoUser = \"mrsmith\"\n",
        "NeoPasswrd = getpass.getpass()"
      ],
      "execution_count": 12,
      "outputs": [
        {
          "output_type": "stream",
          "text": [
            "··········\n"
          ],
          "name": "stdout"
        }
      ]
    },
    {
      "cell_type": "code",
      "metadata": {
        "id": "NDB-vgtk2qlF"
      },
      "source": [
        "uri = \"neo4j://hoffmann.data2discovery.net:7695\"\n",
        "db = neo4j.GraphDatabase.driver(uri, auth= (NeoUser, NeoPasswrd))\n",
        "session = db.session()"
      ],
      "execution_count": 13,
      "outputs": []
    },
    {
      "cell_type": "markdown",
      "metadata": {
        "id": "toBZKLi23GYp"
      },
      "source": [
        "## Functions for ROC curves\n",
        "Given a cypher query return a *dataframe*\n",
        "\n"
      ]
    },
    {
      "cell_type": "code",
      "metadata": {
        "id": "wH_QPwUo4Kx4"
      },
      "source": [
        "def cypher2df(cql):\n",
        "    df = pd.DataFrame(session.run(cql).data())\n",
        "    return(df)"
      ],
      "execution_count": 14,
      "outputs": []
    },
    {
      "cell_type": "markdown",
      "metadata": {
        "id": "jcSn-3D14Nvh"
      },
      "source": [
        "From results and a validation geneset \"valgenes\", plot ROC curve with AUC.\n",
        "  * Column header for the validation genes defaults to \"name\"\n",
        "  * Column header for the cypher gene names defaults to \"g.name\"\n",
        "  * Column header for the cypher centrality defaults to \"sc\"\n",
        " but can be changed with the variables \"vgname\", \"cyname\" and \"cqlsc\", respectively"
      ]
    },
    {
      "cell_type": "code",
      "metadata": {
        "id": "T3DEGrDQ3B9o"
      },
      "source": [
        "def ROCplotter(cdf, valgenes, vgname = \"name\", cyname = 'g.name', cqlsc = 'score', show_mcc=False):\n",
        "    vga = np.array(cdf[cyname].isin(valgenes[vgname]).astype(np.int8))\n",
        "    fpr, tpr, thresholds = roc_curve(vga, np.array(cdf[cqlsc]))\n",
        "    auctest = roc_auc_score(vga, np.array(cdf[cqlsc]))\n",
        "    plt.figure(figsize=(7,5), dpi=100)\n",
        "    plt.plot(fpr, tpr, color='darkorange', lw=1, label = 'ROC curve (area = %0.2f)' % auctest)\n",
        "    plt.plot([0,1], [0,1], color ='blue', lw=1, linestyle='--')\n",
        "    if show_mcc:\n",
        "      mcc = [matthews_corrcoef(vga, cdf[cqlsc]>=t) for t in thresholds]\n",
        "      plt.plot(fpr, mcc, color='gray', lw=1, label = 'MCC (max={:.3f})'.format(max(mcc)))\n",
        "    plt.legend(loc=\"lower right\")\n",
        "    return fpr, tpr, thresholds"
      ],
      "execution_count": 15,
      "outputs": []
    },
    {
      "cell_type": "markdown",
      "metadata": {
        "id": "RBdltKRv38jZ"
      },
      "source": [
        "## Specify Cypher query and run ROCplotter validation geneset.\n",
        "\n"
      ]
    },
    {
      "cell_type": "code",
      "metadata": {
        "id": "fnr5aIY93lWV"
      },
      "source": [
        "score_attribute = \"sum(r.zscore)/sqrt(count(r))\"  # sumz()\n",
        "cid_list = list(df.pubchem_cid.array.astype('int'))\n",
        "cql = \"\"\"\\\n",
        "MATCH p=(d:Drug)-[]-(s:Signature)-[r]-(g:Gene), p1=(s)-[]-(c:Cell)\n",
        "WHERE (d.pubchem_cid in {})\n",
        "WITH g, {} AS score\n",
        "RETURN g.id, g.name, score\n",
        "ORDER BY score DESC\n",
        "\"\"\".format(cid_list, score_attribute)"
      ],
      "execution_count": 16,
      "outputs": []
    },
    {
      "cell_type": "markdown",
      "metadata": {
        "id": "_pgRmPVpYQ4z"
      },
      "source": [
        "## DrugCentral PD indication target geneset"
      ]
    },
    {
      "cell_type": "code",
      "metadata": {
        "id": "HtiiEKDMyofb",
        "outputId": "7fdec241-38bf-4af0-d343-5ba331a8d985",
        "colab": {
          "base_uri": "https://localhost:8080/",
          "height": 221
        }
      },
      "source": [
        "print(\"DrugCentral PD indication genes: {}; +MoA: {}\".format(dcgenes.shape[0], dcgenes[(dcgenes.moa)].shape[0]))\n",
        "dcgenes.head()"
      ],
      "execution_count": 17,
      "outputs": [
        {
          "output_type": "stream",
          "text": [
            "DrugCentral PD indication genes: 173; +MoA: 35\n"
          ],
          "name": "stdout"
        },
        {
          "output_type": "execute_result",
          "data": {
            "text/html": [
              "<div>\n",
              "<style scoped>\n",
              "    .dataframe tbody tr th:only-of-type {\n",
              "        vertical-align: middle;\n",
              "    }\n",
              "\n",
              "    .dataframe tbody tr th {\n",
              "        vertical-align: top;\n",
              "    }\n",
              "\n",
              "    .dataframe thead th {\n",
              "        text-align: right;\n",
              "    }\n",
              "</style>\n",
              "<table border=\"1\" class=\"dataframe\">\n",
              "  <thead>\n",
              "    <tr style=\"text-align: right;\">\n",
              "      <th></th>\n",
              "      <th>target_name</th>\n",
              "      <th>moa</th>\n",
              "      <th>gene</th>\n",
              "    </tr>\n",
              "  </thead>\n",
              "  <tbody>\n",
              "    <tr>\n",
              "      <th>0</th>\n",
              "      <td>5-hydroxytryptamine receptor 1A</td>\n",
              "      <td>&lt;NA&gt;</td>\n",
              "      <td>HTR1A</td>\n",
              "    </tr>\n",
              "    <tr>\n",
              "      <th>1</th>\n",
              "      <td>5-hydroxytryptamine receptor 1A</td>\n",
              "      <td>&lt;NA&gt;</td>\n",
              "      <td>Htr1a</td>\n",
              "    </tr>\n",
              "    <tr>\n",
              "      <th>2</th>\n",
              "      <td>5-hydroxytryptamine receptor 1B</td>\n",
              "      <td>&lt;NA&gt;</td>\n",
              "      <td>HTR1B</td>\n",
              "    </tr>\n",
              "    <tr>\n",
              "      <th>3</th>\n",
              "      <td>5-hydroxytryptamine receptor 1B</td>\n",
              "      <td>&lt;NA&gt;</td>\n",
              "      <td>Htr1b</td>\n",
              "    </tr>\n",
              "    <tr>\n",
              "      <th>4</th>\n",
              "      <td>5-hydroxytryptamine receptor 1D</td>\n",
              "      <td>&lt;NA&gt;</td>\n",
              "      <td>HTR1D</td>\n",
              "    </tr>\n",
              "  </tbody>\n",
              "</table>\n",
              "</div>"
            ],
            "text/plain": [
              "                       target_name   moa   gene\n",
              "0  5-hydroxytryptamine receptor 1A  <NA>  HTR1A\n",
              "1  5-hydroxytryptamine receptor 1A  <NA>  Htr1a\n",
              "2  5-hydroxytryptamine receptor 1B  <NA>  HTR1B\n",
              "3  5-hydroxytryptamine receptor 1B  <NA>  Htr1b\n",
              "4  5-hydroxytryptamine receptor 1D  <NA>  HTR1D"
            ]
          },
          "metadata": {
            "tags": []
          },
          "execution_count": 17
        }
      ]
    },
    {
      "cell_type": "code",
      "metadata": {
        "id": "XpUxYHIFFCJC",
        "outputId": "c4a34893-1814-453c-bba5-bc7460a316b3",
        "colab": {
          "base_uri": "https://localhost:8080/",
          "height": 204
        }
      },
      "source": [
        "hitgenes = cypher2df(cql)\n",
        "hitgenes.head()"
      ],
      "execution_count": 18,
      "outputs": [
        {
          "output_type": "execute_result",
          "data": {
            "text/html": [
              "<div>\n",
              "<style scoped>\n",
              "    .dataframe tbody tr th:only-of-type {\n",
              "        vertical-align: middle;\n",
              "    }\n",
              "\n",
              "    .dataframe tbody tr th {\n",
              "        vertical-align: top;\n",
              "    }\n",
              "\n",
              "    .dataframe thead th {\n",
              "        text-align: right;\n",
              "    }\n",
              "</style>\n",
              "<table border=\"1\" class=\"dataframe\">\n",
              "  <thead>\n",
              "    <tr style=\"text-align: right;\">\n",
              "      <th></th>\n",
              "      <th>g.id</th>\n",
              "      <th>g.name</th>\n",
              "      <th>score</th>\n",
              "    </tr>\n",
              "  </thead>\n",
              "  <tbody>\n",
              "    <tr>\n",
              "      <th>0</th>\n",
              "      <td>10320</td>\n",
              "      <td>IKZF1</td>\n",
              "      <td>182.045567</td>\n",
              "    </tr>\n",
              "    <tr>\n",
              "      <th>1</th>\n",
              "      <td>4208</td>\n",
              "      <td>MEF2C</td>\n",
              "      <td>170.692172</td>\n",
              "    </tr>\n",
              "    <tr>\n",
              "      <th>2</th>\n",
              "      <td>6696</td>\n",
              "      <td>SPP1</td>\n",
              "      <td>164.938151</td>\n",
              "    </tr>\n",
              "    <tr>\n",
              "      <th>3</th>\n",
              "      <td>7048</td>\n",
              "      <td>TGFBR2</td>\n",
              "      <td>164.064284</td>\n",
              "    </tr>\n",
              "    <tr>\n",
              "      <th>4</th>\n",
              "      <td>4638</td>\n",
              "      <td>MYLK</td>\n",
              "      <td>163.562887</td>\n",
              "    </tr>\n",
              "  </tbody>\n",
              "</table>\n",
              "</div>"
            ],
            "text/plain": [
              "    g.id  g.name       score\n",
              "0  10320   IKZF1  182.045567\n",
              "1   4208   MEF2C  170.692172\n",
              "2   6696    SPP1  164.938151\n",
              "3   7048  TGFBR2  164.064284\n",
              "4   4638    MYLK  163.562887"
            ]
          },
          "metadata": {
            "tags": []
          },
          "execution_count": 18
        }
      ]
    },
    {
      "cell_type": "code",
      "metadata": {
        "id": "kJX0r1ZAFRBU",
        "outputId": "df696a46-9f9f-4381-f814-718c4eb0b26f",
        "colab": {
          "base_uri": "https://localhost:8080/",
          "height": 34
        }
      },
      "source": [
        "print(\"Score range: [{:.1f}, {:.1f}]; mean: {:.1f}; median: {:.1f}\".format(min(hitgenes.score), max(hitgenes.score), np.mean(hitgenes.score), np.median(hitgenes.score)))\n"
      ],
      "execution_count": 19,
      "outputs": [
        {
          "output_type": "stream",
          "text": [
            "Score range: [-165.3, 182.0]; mean: 8.6; median: 11.9\n"
          ],
          "name": "stdout"
        }
      ]
    },
    {
      "cell_type": "code",
      "metadata": {
        "id": "4KEgcmX-39PT",
        "outputId": "f204ca50-4c55-4367-857c-cd08a3d0f936",
        "colab": {
          "base_uri": "https://localhost:8080/",
          "height": 548
        }
      },
      "source": [
        "\n",
        "fpr, tpr, thresholds = ROCplotter(hitgenes, dcgenes, vgname=\"gene\", cqlsc=\"score\", show_mcc=True)\n",
        "plt.xlabel('False Positive Rate')\n",
        "plt.ylabel('True Positive Rate')\n",
        "plt.title('KGAP-LINCS ROC vs DrugCentral PD Genes')\n",
        "plt.show()"
      ],
      "execution_count": 20,
      "outputs": [
        {
          "output_type": "stream",
          "text": [
            "/usr/local/lib/python3.6/dist-packages/sklearn/metrics/_classification.py:900: RuntimeWarning: invalid value encountered in double_scalars\n",
            "  mcc = cov_ytyp / np.sqrt(cov_ytyt * cov_ypyp)\n",
            "/usr/local/lib/python3.6/dist-packages/sklearn/metrics/_classification.py:900: RuntimeWarning: invalid value encountered in double_scalars\n",
            "  mcc = cov_ytyp / np.sqrt(cov_ytyt * cov_ypyp)\n"
          ],
          "name": "stderr"
        },
        {
          "output_type": "display_data",
          "data": {
            "image/png": "[encoded data removed]",
            "text/plain": [
              "<Figure size 700x500 with 1 Axes>"
            ]
          },
          "metadata": {
            "tags": [],
            "needs_background": "light"
          }
        }
      ]
    },
    {
      "cell_type": "code",
      "metadata": {
        "id": "hfWyBAi5NO0j",
        "outputId": "9f0fe721-0452-457a-e740-ff9cb1fedbad",
        "colab": {
          "base_uri": "https://localhost:8080/",
          "height": 578
        }
      },
      "source": [
        "thresholds"
      ],
      "execution_count": 21,
      "outputs": [
        {
          "output_type": "execute_result",
          "data": {
            "text/plain": [
              "array([ 183.04556682,  182.04556682,  127.22608112,  127.16325633,\n",
              "         63.16870191,   63.08350937,   39.0341466 ,   39.01048168,\n",
              "         38.83252179,   38.81017283,   36.47058934,   36.43791837,\n",
              "         35.18950657,   35.15903961,   33.90754598,   33.90147842,\n",
              "         33.49281735,   33.47264765,   33.2708138 ,   33.2625319 ,\n",
              "         32.13307664,   32.12145001,   31.98584974,   31.97192446,\n",
              "         30.55857649,   30.54766302,   29.90203203,   29.89224668,\n",
              "         29.12281083,   29.12179443,   29.0521369 ,   29.05076625,\n",
              "         28.8820952 ,   28.8803123 ,   27.62664324,   27.62392616,\n",
              "         27.26868819,   27.26310672,   26.92000966,   26.91968286,\n",
              "         26.88711867,   26.88595271,   26.33977072,   26.33964898,\n",
              "         26.28361806,   26.28083902,   26.18213534,   26.16969806,\n",
              "         25.80373873,   25.79644415,   25.35256276,   25.348146  ,\n",
              "         25.30067219,   25.29954638,   25.19662423,   25.19644261,\n",
              "         25.12751412,   25.12463373,   25.1246043 ,   25.1164879 ,\n",
              "         23.65795051,   23.65598789,   23.0788495 ,   23.07847803,\n",
              "         22.93285048,   22.93248108,   22.12415015,   22.11386483,\n",
              "         21.42226008,   21.41750662,   21.09388347,   21.093816  ,\n",
              "         20.96764774,   20.96548097,   20.67052108,   20.66982344,\n",
              "         19.82061042,   19.8199805 ,   19.09747069,   19.09736325,\n",
              "         18.85526412,   18.85402282,   18.07232921,   18.07051884,\n",
              "         17.7023873 ,   17.70166919,   15.84565539,   15.83805363,\n",
              "         15.71725542,   15.7145566 ,   14.70161949,   14.69437636,\n",
              "         13.00426745,   13.00394319,   12.55862009,   12.55842288,\n",
              "         12.35632277,   12.35534181,   11.63105486,   11.62867248,\n",
              "         10.26698372,   10.26651276,    9.75079818,    9.74847648,\n",
              "          9.36640218,    9.36373838,    9.20805615,    9.20154006,\n",
              "          8.65119846,    8.64753181,    8.59825492,    8.58695008,\n",
              "          8.16529171,    8.1639001 ,    7.66273943,    7.66203701,\n",
              "          7.60255619,    7.59715437,    5.32693781,    5.32508426,\n",
              "          3.37830659,    3.37368409,    1.89549097,    1.89421088,\n",
              "         -6.79970208,   -6.80375914,   -8.08627623,   -8.09228775,\n",
              "         -9.79711777,   -9.82172909, -165.29433884])"
            ]
          },
          "metadata": {
            "tags": []
          },
          "execution_count": 21
        }
      ]
    },
    {
      "cell_type": "markdown",
      "metadata": {
        "id": "92snmtRb8xQY"
      },
      "source": [
        "MoA genes only:"
      ]
    },
    {
      "cell_type": "code",
      "metadata": {
        "id": "rT57k6xr8tbX",
        "outputId": "722bfd02-2d53-47cf-bde1-6438e2a7e91d",
        "colab": {
          "base_uri": "https://localhost:8080/",
          "height": 480
        }
      },
      "source": [
        "ROCplotter(hitgenes, dcgenes[(dcgenes.moa)], vgname=\"gene\", cqlsc=\"score\")\n",
        "plt.xlabel('False Positive Rate')\n",
        "plt.ylabel('True Positive Rate')\n",
        "plt.title('KGAP-LINCS ROC vs DrugCentral PD Genes (MoA)')\n",
        "plt.show()"
      ],
      "execution_count": 22,
      "outputs": [
        {
          "output_type": "display_data",
          "data": {
            "image/png": "[encoded data removed]",
            "text/plain": [
              "<Figure size 700x500 with 1 Axes>"
            ]
          },
          "metadata": {
            "tags": [],
            "needs_background": "light"
          }
        }
      ]
    }
  ]
}