{
  "nbformat": 4,
  "nbformat_minor": 0,
  "metadata": {
    "colab": {
      "name": "Untitled0.ipynb",
      "provenance": [],
      "include_colab_link": true
    },
    "kernelspec": {
      "name": "python3",
      "display_name": "Python 3"
    }
  },
  "cells": [
    {
      "cell_type": "markdown",
      "metadata": {
        "id": "view-in-github",
        "colab_type": "text"
      },
      "source": [
        "<a href=\"https://colab.research.google.com/github/IUIDSL/kgap_lincs-idg/blob/master/py_nb/ROC_Val%20kgap_lincs-idg.ipynb\" target=\"_parent\"><img src=\"https://colab.research.google.com/assets/colab-badge.svg\" alt=\"Open In Colab\"/></a>"
      ]
    },
    {
      "cell_type": "markdown",
      "metadata": {
        "id": "qe4A5FmkThPh",
        "colab_type": "text"
      },
      "source": [
        "##ROC Analysis for LINCs Centrality\n"
      ]
    },
    {
      "cell_type": "code",
      "metadata": {
        "id": "uUsbHDjoTYuq",
        "colab_type": "code",
        "colab": {
          "base_uri": "https://localhost:8080/",
          "height": 204
        },
        "outputId": "ef72874e-c8c9-4dc9-dca3-62c75d3f4a3f"
      },
      "source": [
        "!pip install neo4j\n"
      ],
      "execution_count": 1,
      "outputs": [
        {
          "output_type": "stream",
          "text": [
            "Collecting neo4j\n",
            "\u001b[?25l  Downloading https://files.pythonhosted.org/packages/ad/4c/6d58b9416d2d62c4115d4c6bd84e6f31ca98716f50ee9da7a5418cfa61d0/neo4j-4.1.1.tar.gz (67kB)\n",
            "\r\u001b[K     |████▉                           | 10kB 17.6MB/s eta 0:00:01\r\u001b[K     |█████████▊                      | 20kB 1.7MB/s eta 0:00:01\r\u001b[K     |██████████████▋                 | 30kB 2.5MB/s eta 0:00:01\r\u001b[K     |███████████████████▌            | 40kB 3.2MB/s eta 0:00:01\r\u001b[K     |████████████████████████▍       | 51kB 2.1MB/s eta 0:00:01\r\u001b[K     |█████████████████████████████▎  | 61kB 2.5MB/s eta 0:00:01\r\u001b[K     |████████████████████████████████| 71kB 2.2MB/s \n",
            "\u001b[?25hRequirement already satisfied: pytz in /usr/local/lib/python3.6/dist-packages (from neo4j) (2018.9)\n",
            "Building wheels for collected packages: neo4j\n",
            "  Building wheel for neo4j (setup.py) ... \u001b[?25l\u001b[?25hdone\n",
            "  Created wheel for neo4j: filename=neo4j-4.1.1-cp36-none-any.whl size=94668 sha256=245bb97c9e7366631989bb4b06276a91a73a0961e5489e8fa231f470df295f1f\n",
            "  Stored in directory: /root/.cache/pip/wheels/9a/fc/33/6d01e37785f45eb8f7b6d1c95db82eb0c4816d465205c1dfa9\n",
            "Successfully built neo4j\n",
            "Installing collected packages: neo4j\n",
            "Successfully installed neo4j-4.1.1\n"
          ],
          "name": "stdout"
        }
      ]
    },
    {
      "cell_type": "code",
      "metadata": {
        "id": "D3TVwxw_Z8tT",
        "colab_type": "code",
        "colab": {}
      },
      "source": [
        "import base64\n",
        "import requests\n",
        "import pandas as pd\n",
        "import neo4j\n",
        "import getpass\n",
        "import numpy as np\n",
        "from sklearn.metrics import roc_curve, roc_auc_score\n",
        "from sklearn import metrics\n",
        "from matplotlib import pyplot as plt"
      ],
      "execution_count": 4,
      "outputs": []
    },
    {
      "cell_type": "markdown",
      "metadata": {
        "id": "6_B5CtRfVaF1",
        "colab_type": "text"
      },
      "source": [
        "# Connect to db\n",
        "Set your Neo4j UserName as \"NeoUser\". IP address of this instance of colabratory prints."
      ]
    },
    {
      "cell_type": "code",
      "metadata": {
        "id": "uRCtMJVLa5ep",
        "colab_type": "code",
        "colab": {
          "base_uri": "https://localhost:8080/",
          "height": 34
        },
        "outputId": "eea768f3-2156-4a38-c4db-098d986ae4cb"
      },
      "source": [
        "NeoUser = \"mrsmith\"\n",
        "\n",
        "!curl ipecho.net/plain"
      ],
      "execution_count": 7,
      "outputs": [
        {
          "output_type": "stream",
          "text": [
            "34.80.125.139"
          ],
          "name": "stdout"
        }
      ]
    },
    {
      "cell_type": "code",
      "metadata": {
        "id": "PLVT3qmoa7V5",
        "colab_type": "code",
        "colab": {
          "base_uri": "https://localhost:8080/",
          "height": 34
        },
        "outputId": "460d0fb2-9c72-4a18-c83d-5c0e339657ba"
      },
      "source": [
        "NeoPasswrd = getpass.getpass()"
      ],
      "execution_count": 5,
      "outputs": [
        {
          "output_type": "stream",
          "text": [
            "··········\n"
          ],
          "name": "stdout"
        }
      ]
    },
    {
      "cell_type": "code",
      "metadata": {
        "id": "sA2L_JZgVf3v",
        "colab_type": "code",
        "colab": {}
      },
      "source": [
        "uri = \"neo4j://hoffmann.data2discovery.net:7695\"\n",
        "db = neo4j.GraphDatabase.driver(uri, auth= (\"dan\", \"password\"))\n",
        "session = db.session()\n"
      ],
      "execution_count": 8,
      "outputs": []
    },
    {
      "cell_type": "code",
      "metadata": {
        "id": "TD6Quu0rFURN",
        "colab_type": "code",
        "colab": {
          "base_uri": "https://localhost:8080/",
          "height": 204
        },
        "outputId": "42866f34-9f24-4f66-8692-dc43e12b5185"
      },
      "source": [
        "#Test query to confirm connection\n",
        "Testcql = \"MATCH (n:Gene) RETURN n LIMIT 25\"\n",
        "df = pd.DataFrame(session.run(Testcql).data())\n",
        "df.head()"
      ],
      "execution_count": 9,
      "outputs": [
        {
          "output_type": "execute_result",
          "data": {
            "text/html": [
              "<div>\n",
              "<style scoped>\n",
              "    .dataframe tbody tr th:only-of-type {\n",
              "        vertical-align: middle;\n",
              "    }\n",
              "\n",
              "    .dataframe tbody tr th {\n",
              "        vertical-align: top;\n",
              "    }\n",
              "\n",
              "    .dataframe thead th {\n",
              "        text-align: right;\n",
              "    }\n",
              "</style>\n",
              "<table border=\"1\" class=\"dataframe\">\n",
              "  <thead>\n",
              "    <tr style=\"text-align: right;\">\n",
              "      <th></th>\n",
              "      <th>n</th>\n",
              "    </tr>\n",
              "  </thead>\n",
              "  <tbody>\n",
              "    <tr>\n",
              "      <th>0</th>\n",
              "      <td>{'pr_is_bing': '1', 'degree': 10991, 'descript...</td>\n",
              "    </tr>\n",
              "    <tr>\n",
              "      <th>1</th>\n",
              "      <td>{'pr_is_bing': '1', 'degree': 11139, 'descript...</td>\n",
              "    </tr>\n",
              "    <tr>\n",
              "      <th>2</th>\n",
              "      <td>{'pr_is_bing': '0', 'degree': 3429, 'descripti...</td>\n",
              "    </tr>\n",
              "    <tr>\n",
              "      <th>3</th>\n",
              "      <td>{'pr_is_bing': '1', 'degree': 927, 'descriptio...</td>\n",
              "    </tr>\n",
              "    <tr>\n",
              "      <th>4</th>\n",
              "      <td>{'pr_is_bing': '1', 'degree': 1563, 'descripti...</td>\n",
              "    </tr>\n",
              "  </tbody>\n",
              "</table>\n",
              "</div>"
            ],
            "text/plain": [
              "                                                   n\n",
              "0  {'pr_is_bing': '1', 'degree': 10991, 'descript...\n",
              "1  {'pr_is_bing': '1', 'degree': 11139, 'descript...\n",
              "2  {'pr_is_bing': '0', 'degree': 3429, 'descripti...\n",
              "3  {'pr_is_bing': '1', 'degree': 927, 'descriptio...\n",
              "4  {'pr_is_bing': '1', 'degree': 1563, 'descripti..."
            ]
          },
          "metadata": {
            "tags": []
          },
          "execution_count": 9
        }
      ]
    },
    {
      "cell_type": "code",
      "metadata": {
        "id": "Pw8JSLHKFYoW",
        "colab_type": "code",
        "colab": {}
      },
      "source": [
        "#Functions for production of ROC curve\n",
        "\n",
        "#Given a cypher query return a dataframe\n",
        "def cypher2df(cql):\n",
        "    df = pd.DataFrame(session.run(cql).data())\n",
        "    return(df)\n",
        "\n",
        "#function, when given a cypher query \"cql\" and a validation set of genes \"valgenes\" as a dataframe, \n",
        "#outputs ROC curve and AUC measure\n",
        "#\n",
        "#Column header for the validation genes defaults to \"name\"\n",
        "#Column header for the cypher gene names defaults to \"g.name\"\n",
        "#Column header for the cypher centrality defaults to \"sc\"\n",
        "# but can be changed with the variables \"vgname\", \"cyname\" and \"cqlsc\", respectively\n",
        "def ROCplotter(cql, valgenes, vgname = \"name\", cyname = 'g.name', cqlsc = 'sc'):\n",
        "    cdf = cypher2df(cql)\n",
        "    vga = np.array(cdf[cyname].isin(valgenes[vgname]).astype(np.int8))\n",
        "    fpr, tpr, thresholds = roc_curve(vga, np.array(cdf[cqlsc]))\n",
        "    auctest = roc_auc_score(vga, np.array(cdf[cqlsc]))\n",
        "    \n",
        "    plt.figure(figsize=(7,5), dpi=100)\n",
        "    lw = 1\n",
        "    plt.plot(fpr, tpr, color='darkorange',lw=lw, label = 'ROC curve (area = %0.2f)' % auctest)\n",
        "    plt.plot([0,1],[0,1], color ='blue', lw=lw, linestyle='--')\n",
        "    plt.legend(loc=\"lower right\")"
      ],
      "execution_count": 10,
      "outputs": []
    },
    {
      "cell_type": "markdown",
      "metadata": {
        "id": "ipt0CKP-FfU5",
        "colab_type": "text"
      },
      "source": [
        "Cypher queries can be pulled directly from Github repo with the following function."
      ]
    },
    {
      "cell_type": "code",
      "metadata": {
        "id": "8UelJsuwFoz6",
        "colab_type": "code",
        "colab": {}
      },
      "source": [
        "#set the raw url\n",
        "\n",
        "def getCypherfrGit(url):\n",
        "    x = requests.get(url).text\n",
        "    return(x)"
      ],
      "execution_count": 12,
      "outputs": []
    },
    {
      "cell_type": "code",
      "metadata": {
        "id": "mY9qOenVFh_V",
        "colab_type": "code",
        "colab": {
          "base_uri": "https://localhost:8080/",
          "height": 69
        },
        "outputId": "5135c541-9dd3-4463-da0c-173cc95069a1"
      },
      "source": [
        "cypherQueryurl = \"https://raw.githubusercontent.com/IUIDSL/kgap_lincs-idg/master/py_nb/gencentrality.txt\"\n",
        "\n",
        "ROCjensen = getCypherfrGit(cypherQueryurl)\n",
        "\n",
        "ROCjensen"
      ],
      "execution_count": 13,
      "outputs": [
        {
          "output_type": "execute_result",
          "data": {
            "application/vnd.google.colaboratory.intrinsic+json": {
              "type": "string"
            },
            "text/plain": [
              "\"match p=(n:Drug)-[]-(s:Signature)-[]-(g:Gene) where n.id='144' or n.id = '228' or n.id='333' or n.id='374' or n.id = '403' or n.id = '496' or n.id = '763' or n.id = '971' or n.id = '1018'or n.id = '1567' or n.id = '2233' or n.id = '2276' or n.id = '2402' or n.id = '2407' or n.id = '2429' or n.id = '2558' or n.id = '2697' or n.id = '2745' or n.id = '3521' or n.id ='4882' or n.id = '4921' or n.id = '5142' or n.id = '5143' or n.id ='1673' or n.id = '1780' or n.id = '1999'   or n.id = '2105'  or n.id = '2202' or n.id = '2392' or n.id = '831' with g, count(distinct s) as sc return g.id, g.name, sc  order by sc desc\\n\""
            ]
          },
          "metadata": {
            "tags": []
          },
          "execution_count": 13
        }
      ]
    },
    {
      "cell_type": "code",
      "metadata": {
        "id": "zLTAoXEuFuLu",
        "colab_type": "code",
        "colab": {
          "base_uri": "https://localhost:8080/",
          "height": 204
        },
        "outputId": "2b2f3357-3a10-474e-f47d-e02bbf428ace"
      },
      "source": [
        "#Importing the validation gene set from github\n",
        "url = \"https://raw.githubusercontent.com/IUIDSL/kgap_lincs-idg/master/py_nb/JensenLab_PD_Knowledge_genes.csv\"\n",
        "jensenvaldf = pd.read_csv(url)\n",
        "jensenvaldf.head()"
      ],
      "execution_count": 14,
      "outputs": [
        {
          "output_type": "execute_result",
          "data": {
            "text/html": [
              "<div>\n",
              "<style scoped>\n",
              "    .dataframe tbody tr th:only-of-type {\n",
              "        vertical-align: middle;\n",
              "    }\n",
              "\n",
              "    .dataframe tbody tr th {\n",
              "        vertical-align: top;\n",
              "    }\n",
              "\n",
              "    .dataframe thead th {\n",
              "        text-align: right;\n",
              "    }\n",
              "</style>\n",
              "<table border=\"1\" class=\"dataframe\">\n",
              "  <thead>\n",
              "    <tr style=\"text-align: right;\">\n",
              "      <th></th>\n",
              "      <th>name</th>\n",
              "      <th>source</th>\n",
              "      <th>evidence</th>\n",
              "      <th>score</th>\n",
              "      <th>visible</th>\n",
              "      <th>url</th>\n",
              "    </tr>\n",
              "  </thead>\n",
              "  <tbody>\n",
              "    <tr>\n",
              "      <th>0</th>\n",
              "      <td>PINK1</td>\n",
              "      <td>UniProtKB-KW</td>\n",
              "      <td>CURATED</td>\n",
              "      <td>4</td>\n",
              "      <td>True</td>\n",
              "      <td>http://www.uniprot.org/uniprot/PINK1_HUMAN</td>\n",
              "    </tr>\n",
              "    <tr>\n",
              "      <th>1</th>\n",
              "      <td>LRRK2</td>\n",
              "      <td>UniProtKB-KW</td>\n",
              "      <td>CURATED</td>\n",
              "      <td>4</td>\n",
              "      <td>True</td>\n",
              "      <td>http://www.uniprot.org/uniprot/LRRK2_HUMAN</td>\n",
              "    </tr>\n",
              "    <tr>\n",
              "      <th>2</th>\n",
              "      <td>UCHL1</td>\n",
              "      <td>UniProtKB-KW</td>\n",
              "      <td>CURATED</td>\n",
              "      <td>4</td>\n",
              "      <td>True</td>\n",
              "      <td>http://www.uniprot.org/uniprot/UCHL1_HUMAN</td>\n",
              "    </tr>\n",
              "    <tr>\n",
              "      <th>3</th>\n",
              "      <td>PARK2</td>\n",
              "      <td>UniProtKB-KW</td>\n",
              "      <td>CURATED</td>\n",
              "      <td>4</td>\n",
              "      <td>True</td>\n",
              "      <td>http://www.uniprot.org/uniprot/PRKN_HUMAN</td>\n",
              "    </tr>\n",
              "    <tr>\n",
              "      <th>4</th>\n",
              "      <td>SNCA</td>\n",
              "      <td>UniProtKB-KW</td>\n",
              "      <td>CURATED</td>\n",
              "      <td>4</td>\n",
              "      <td>True</td>\n",
              "      <td>http://www.uniprot.org/uniprot/SYUA_HUMAN</td>\n",
              "    </tr>\n",
              "  </tbody>\n",
              "</table>\n",
              "</div>"
            ],
            "text/plain": [
              "    name        source  ... visible                                         url\n",
              "0  PINK1  UniProtKB-KW  ...    True  http://www.uniprot.org/uniprot/PINK1_HUMAN\n",
              "1  LRRK2  UniProtKB-KW  ...    True  http://www.uniprot.org/uniprot/LRRK2_HUMAN\n",
              "2  UCHL1  UniProtKB-KW  ...    True  http://www.uniprot.org/uniprot/UCHL1_HUMAN\n",
              "3  PARK2  UniProtKB-KW  ...    True   http://www.uniprot.org/uniprot/PRKN_HUMAN\n",
              "4   SNCA  UniProtKB-KW  ...    True   http://www.uniprot.org/uniprot/SYUA_HUMAN\n",
              "\n",
              "[5 rows x 6 columns]"
            ]
          },
          "metadata": {
            "tags": []
          },
          "execution_count": 14
        }
      ]
    },
    {
      "cell_type": "markdown",
      "metadata": {
        "id": "tSfGZASPFzbv",
        "colab_type": "text"
      },
      "source": [
        ""
      ]
    },
    {
      "cell_type": "markdown",
      "metadata": {
        "id": "egZhHJLZFzeA",
        "colab_type": "text"
      },
      "source": [
        "Running ROCplotter after you've specified a cypher query string and have a validation set of genes yields this ROC plot."
      ]
    },
    {
      "cell_type": "markdown",
      "metadata": {
        "id": "3H_tRn5RFzdT",
        "colab_type": "text"
      },
      "source": [
        ""
      ]
    },
    {
      "cell_type": "code",
      "metadata": {
        "id": "elNoURbdFx4Q",
        "colab_type": "code",
        "colab": {
          "base_uri": "https://localhost:8080/",
          "height": 480
        },
        "outputId": "1543622d-a95c-4375-86fc-19cbdc4cf0f9"
      },
      "source": [
        "#running the ROCplotter function\n",
        "ROCplotter(ROCjensen, jensenvaldf)\n",
        "\n",
        "#Thought that the plot labels would be best outside of the function\n",
        "plt.xlabel('False Positive Rate')\n",
        "plt.ylabel('True Positive Rate')\n",
        "plt.title('ROC Jensen PD Genes')\n",
        "plt.show()\n"
      ],
      "execution_count": 15,
      "outputs": [
        {
          "output_type": "display_data",
          "data": {
            "image/png": "[encoded data removed]",
            "text/plain": [
              "<Figure size 700x500 with 1 Axes>"
            ]
          },
          "metadata": {
            "tags": [],
            "needs_background": "light"
          }
        }
      ]
    }
  ]
}