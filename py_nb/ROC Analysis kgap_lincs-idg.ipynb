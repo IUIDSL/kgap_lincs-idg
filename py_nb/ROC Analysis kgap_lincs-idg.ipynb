{
 "cells": [
  {
   "cell_type": "markdown",
   "metadata": {},
   "source": [
    "# ROC Analysis for LINCs Centrality"
   ]
  },
  {
   "cell_type": "code",
   "execution_count": 1,
   "metadata": {},
   "outputs": [
    {
     "name": "stdout",
     "output_type": "stream",
     "text": [
      "Requirement already satisfied: neo4j in c:\\users\\danie\\anaconda3\\lib\\site-packages (4.1.1)\n",
      "Requirement already satisfied: pytz in c:\\users\\danie\\anaconda3\\lib\\site-packages (from neo4j) (2019.3)\n"
     ]
    }
   ],
   "source": [
    "#Install neo4j library if you don't already have it.\n",
    "#!pip install neo4j"
   ]
  },
  {
   "cell_type": "code",
   "execution_count": 49,
   "metadata": {},
   "outputs": [],
   "source": [
    "import base64\n",
    "import requests\n",
    "import pandas as pd\n",
    "import neo4j\n",
    "import getpass\n",
    "import numpy as np\n",
    "from sklearn.metrics import roc_curve, roc_auc_score\n",
    "from sklearn import metrics\n",
    "from matplotlib import pyplot as plt"
   ]
  },
  {
   "cell_type": "markdown",
   "metadata": {},
   "source": [
    "Set your Neo4j UserName as \"NeoUser\""
   ]
  },
  {
   "cell_type": "code",
   "execution_count": 51,
   "metadata": {},
   "outputs": [],
   "source": [
    "NeoUser = \"dan\""
   ]
  },
  {
   "cell_type": "markdown",
   "metadata": {},
   "source": [
    "Run the chunk below and enter your password in the prompt below."
   ]
  },
  {
   "cell_type": "code",
   "execution_count": 52,
   "metadata": {},
   "outputs": [
    {
     "name": "stdout",
     "output_type": "stream",
     "text": [
      "········\n"
     ]
    }
   ],
   "source": [
    "NeoPasswrd = getpass.getpass()"
   ]
  },
  {
   "cell_type": "code",
   "execution_count": 53,
   "metadata": {},
   "outputs": [],
   "source": [
    "uri = \"neo4j://hoffmann.data2discovery.net:7695\"\n",
    "db = neo4j.GraphDatabase.driver(uri, auth= (NeoUser,NeoPasswrd))\n",
    "session = db.session()"
   ]
  },
  {
   "cell_type": "code",
   "execution_count": 54,
   "metadata": {},
   "outputs": [
    {
     "data": {
      "text/html": [
       "<div>\n",
       "<style scoped>\n",
       "    .dataframe tbody tr th:only-of-type {\n",
       "        vertical-align: middle;\n",
       "    }\n",
       "\n",
       "    .dataframe tbody tr th {\n",
       "        vertical-align: top;\n",
       "    }\n",
       "\n",
       "    .dataframe thead th {\n",
       "        text-align: right;\n",
       "    }\n",
       "</style>\n",
       "<table border=\"1\" class=\"dataframe\">\n",
       "  <thead>\n",
       "    <tr style=\"text-align: right;\">\n",
       "      <th></th>\n",
       "      <th>n</th>\n",
       "    </tr>\n",
       "  </thead>\n",
       "  <tbody>\n",
       "    <tr>\n",
       "      <th>0</th>\n",
       "      <td>{'pr_is_bing': '1', 'degree': 10991, 'descript...</td>\n",
       "    </tr>\n",
       "    <tr>\n",
       "      <th>1</th>\n",
       "      <td>{'pr_is_bing': '1', 'degree': 11139, 'descript...</td>\n",
       "    </tr>\n",
       "    <tr>\n",
       "      <th>2</th>\n",
       "      <td>{'pr_is_bing': '0', 'degree': 3429, 'descripti...</td>\n",
       "    </tr>\n",
       "    <tr>\n",
       "      <th>3</th>\n",
       "      <td>{'pr_is_bing': '1', 'degree': 927, 'descriptio...</td>\n",
       "    </tr>\n",
       "    <tr>\n",
       "      <th>4</th>\n",
       "      <td>{'pr_is_bing': '1', 'degree': 1563, 'descripti...</td>\n",
       "    </tr>\n",
       "  </tbody>\n",
       "</table>\n",
       "</div>"
      ],
      "text/plain": [
       "                                                   n\n",
       "0  {'pr_is_bing': '1', 'degree': 10991, 'descript...\n",
       "1  {'pr_is_bing': '1', 'degree': 11139, 'descript...\n",
       "2  {'pr_is_bing': '0', 'degree': 3429, 'descripti...\n",
       "3  {'pr_is_bing': '1', 'degree': 927, 'descriptio...\n",
       "4  {'pr_is_bing': '1', 'degree': 1563, 'descripti..."
      ]
     },
     "execution_count": 54,
     "metadata": {},
     "output_type": "execute_result"
    }
   ],
   "source": [
    "#Test query to confirm connection\n",
    "Testcql = \"MATCH (n:Gene) RETURN n LIMIT 25\"\n",
    "df = pd.DataFrame(session.run(Testcql).data())\n",
    "df.head()"
   ]
  },
  {
   "cell_type": "code",
   "execution_count": 65,
   "metadata": {},
   "outputs": [],
   "source": [
    "#Functions for production of ROC curve\n",
    "\n",
    "#Given a cypher query return a dataframe\n",
    "def cypher2df(cql):\n",
    "    df = pd.DataFrame(session.run(cql).data())\n",
    "    return(df)\n",
    "\n",
    "#function, when given a cypher query \"cql\" and a validation set of genes \"valgenes\" as a dataframe, \n",
    "#outputs ROC curve and AUC measure\n",
    "#\n",
    "#Column header for the validation genes defaults to \"name\"\n",
    "#Column header for the cypher gene names defaults to \"g.name\"\n",
    "#Column header for the cypher centrality defaults to \"sc\"\n",
    "# but can be changed with the variables \"vgname\", \"cyname\" and \"cqlsc\", respectively\n",
    "def ROCplotter(cql, valgenes, vgname = \"name\", cyname = 'g.name', cqlsc = 'sc'):\n",
    "    cdf = cypher2df(cql)\n",
    "    vga = np.array(cdf[cyname].isin(valgenes[vgname]).astype(np.int8))\n",
    "    fpr, tpr, thresholds = roc_curve(vga, np.array(cdf[cqlsc]))\n",
    "    auctest = roc_auc_score(vga, np.array(cdf[cqlsc]))\n",
    "    \n",
    "    plt.figure(figsize=(7,5), dpi=100)\n",
    "    lw = 1\n",
    "    plt.plot(fpr, tpr, color='darkorange',lw=lw, label = 'ROC curve (area = %0.2f)' % auctest)\n",
    "    plt.plot([0,1],[0,1], color ='blue', lw=lw, linestyle='--')\n",
    "    plt.legend(loc=\"lower right\")\n",
    "\n",
    "\n"
   ]
  },
  {
   "cell_type": "markdown",
   "metadata": {},
   "source": [
    "Cypher queries can be pulled directly from Github repo with the following function."
   ]
  },
  {
   "cell_type": "code",
   "execution_count": 56,
   "metadata": {},
   "outputs": [],
   "source": [
    "#set the raw url\n",
    "\n",
    "def getCypherfrGit(url):\n",
    "    x = requests.get(url).text\n",
    "    return(x)\n"
   ]
  },
  {
   "cell_type": "markdown",
   "metadata": {},
   "source": [
    "Placed the basic centrality query as a .txt in Git for testing."
   ]
  },
  {
   "cell_type": "code",
   "execution_count": 57,
   "metadata": {},
   "outputs": [
    {
     "data": {
      "text/plain": [
       "\"match p=(n:Drug)-[]-(s:Signature)-[]-(g:Gene) where n.id='144' or n.id = '228' or n.id='333' or n.id='374' or n.id = '403' or n.id = '496' or n.id = '763' or n.id = '971' or n.id = '1018'or n.id = '1567' or n.id = '2233' or n.id = '2276' or n.id = '2402' or n.id = '2407' or n.id = '2429' or n.id = '2558' or n.id = '2697' or n.id = '2745' or n.id = '3521' or n.id ='4882' or n.id = '4921' or n.id = '5142' or n.id = '5143' or n.id ='1673' or n.id = '1780' or n.id = '1999'   or n.id = '2105'  or n.id = '2202' or n.id = '2392' or n.id = '831' with g, count(distinct s) as sc return g.id, g.name, sc  order by sc desc\\n\""
      ]
     },
     "execution_count": 57,
     "metadata": {},
     "output_type": "execute_result"
    }
   ],
   "source": [
    "cypherQueryurl = \"https://raw.githubusercontent.com/IUIDSL/kgap_lincs-idg/master/py_nb/gencentrality.txt\"\n",
    "\n",
    "ROCjensen = getCypherfrGit(cypherQueryurl)\n",
    "\n",
    "ROCjensen"
   ]
  },
  {
   "cell_type": "code",
   "execution_count": 58,
   "metadata": {},
   "outputs": [
    {
     "data": {
      "text/html": [
       "<div>\n",
       "<style scoped>\n",
       "    .dataframe tbody tr th:only-of-type {\n",
       "        vertical-align: middle;\n",
       "    }\n",
       "\n",
       "    .dataframe tbody tr th {\n",
       "        vertical-align: top;\n",
       "    }\n",
       "\n",
       "    .dataframe thead th {\n",
       "        text-align: right;\n",
       "    }\n",
       "</style>\n",
       "<table border=\"1\" class=\"dataframe\">\n",
       "  <thead>\n",
       "    <tr style=\"text-align: right;\">\n",
       "      <th></th>\n",
       "      <th>name</th>\n",
       "      <th>source</th>\n",
       "      <th>evidence</th>\n",
       "      <th>score</th>\n",
       "      <th>visible</th>\n",
       "      <th>url</th>\n",
       "    </tr>\n",
       "  </thead>\n",
       "  <tbody>\n",
       "    <tr>\n",
       "      <th>0</th>\n",
       "      <td>PINK1</td>\n",
       "      <td>UniProtKB-KW</td>\n",
       "      <td>CURATED</td>\n",
       "      <td>4</td>\n",
       "      <td>True</td>\n",
       "      <td>http://www.uniprot.org/uniprot/PINK1_HUMAN</td>\n",
       "    </tr>\n",
       "    <tr>\n",
       "      <th>1</th>\n",
       "      <td>LRRK2</td>\n",
       "      <td>UniProtKB-KW</td>\n",
       "      <td>CURATED</td>\n",
       "      <td>4</td>\n",
       "      <td>True</td>\n",
       "      <td>http://www.uniprot.org/uniprot/LRRK2_HUMAN</td>\n",
       "    </tr>\n",
       "    <tr>\n",
       "      <th>2</th>\n",
       "      <td>UCHL1</td>\n",
       "      <td>UniProtKB-KW</td>\n",
       "      <td>CURATED</td>\n",
       "      <td>4</td>\n",
       "      <td>True</td>\n",
       "      <td>http://www.uniprot.org/uniprot/UCHL1_HUMAN</td>\n",
       "    </tr>\n",
       "    <tr>\n",
       "      <th>3</th>\n",
       "      <td>PARK2</td>\n",
       "      <td>UniProtKB-KW</td>\n",
       "      <td>CURATED</td>\n",
       "      <td>4</td>\n",
       "      <td>True</td>\n",
       "      <td>http://www.uniprot.org/uniprot/PRKN_HUMAN</td>\n",
       "    </tr>\n",
       "    <tr>\n",
       "      <th>4</th>\n",
       "      <td>SNCA</td>\n",
       "      <td>UniProtKB-KW</td>\n",
       "      <td>CURATED</td>\n",
       "      <td>4</td>\n",
       "      <td>True</td>\n",
       "      <td>http://www.uniprot.org/uniprot/SYUA_HUMAN</td>\n",
       "    </tr>\n",
       "  </tbody>\n",
       "</table>\n",
       "</div>"
      ],
      "text/plain": [
       "    name        source evidence  score  visible  \\\n",
       "0  PINK1  UniProtKB-KW  CURATED      4     True   \n",
       "1  LRRK2  UniProtKB-KW  CURATED      4     True   \n",
       "2  UCHL1  UniProtKB-KW  CURATED      4     True   \n",
       "3  PARK2  UniProtKB-KW  CURATED      4     True   \n",
       "4   SNCA  UniProtKB-KW  CURATED      4     True   \n",
       "\n",
       "                                          url  \n",
       "0  http://www.uniprot.org/uniprot/PINK1_HUMAN  \n",
       "1  http://www.uniprot.org/uniprot/LRRK2_HUMAN  \n",
       "2  http://www.uniprot.org/uniprot/UCHL1_HUMAN  \n",
       "3   http://www.uniprot.org/uniprot/PRKN_HUMAN  \n",
       "4   http://www.uniprot.org/uniprot/SYUA_HUMAN  "
      ]
     },
     "execution_count": 58,
     "metadata": {},
     "output_type": "execute_result"
    }
   ],
   "source": [
    "#Importing the validation gene set from github\n",
    "url = \"https://raw.githubusercontent.com/IUIDSL/kgap_lincs-idg/master/py_nb/JensenLab_PD_Knowledge_genes.csv\"\n",
    "jensenvaldf = pd.read_csv(url)\n",
    "jensenvaldf.head()\n"
   ]
  },
  {
   "cell_type": "markdown",
   "metadata": {},
   "source": [
    "Running ROCplotter after you've specified a cypher query string and have a validation set of genes yields this ROC plot."
   ]
  },
  {
   "cell_type": "code",
   "execution_count": 66,
   "metadata": {},
   "outputs": [
    {
     "data": {
      "image/png": "[encoded data removed]",
      "text/plain": [
       "<Figure size 700x500 with 1 Axes>"
      ]
     },
     "metadata": {
      "needs_background": "light"
     },
     "output_type": "display_data"
    }
   ],
   "source": [
    "#running the ROCplotter function\n",
    "ROCplotter(ROCjensen, jensenvaldf)\n",
    "\n",
    "#Thought that the plot labels would be best outside of the function\n",
    "plt.xlabel('False Positive Rate')\n",
    "plt.ylabel('True Positive Rate')\n",
    "plt.title('ROC Jensen PD Genes')\n",
    "plt.show()\n"
   ]
  },
  {
   "cell_type": "markdown",
   "metadata": {},
   "source": [
    "I did note that this package returned a slightly lower value.  This may have been because I used a slightly different data set here."
   ]
  }
 ],
 "metadata": {
  "kernelspec": {
   "display_name": "Python 3",
   "language": "python",
   "name": "python3"
  },
  "language_info": {
   "codemirror_mode": {
    "name": "ipython",
    "version": 3
   },
   "file_extension": ".py",
   "mimetype": "text/x-python",
   "name": "python",
   "nbconvert_exporter": "python",
   "pygments_lexer": "ipython3",
   "version": "3.7.6"
  }
 },
 "nbformat": 4,
 "nbformat_minor": 4
}
